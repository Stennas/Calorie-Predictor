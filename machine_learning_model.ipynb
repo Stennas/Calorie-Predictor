{
  "cells": [
    {
      "cell_type": "code",
      "execution_count": null,
      "metadata": {
        "id": "RtbxuNPOxbbk"
      },
      "outputs": [],
      "source": [
        "import pandas as pd\n",
        "import numpy as np\n",
        "from sklearn.model_selection import train_test_split\n",
        "from sklearn.linear_model import LinearRegression\n",
        "from sklearn.metrics import mean_absolute_error, mean_squared_error, r2_score\n",
        "from math import sqrt"
      ]
    },
    {
      "cell_type": "code",
      "execution_count": 3,
      "metadata": {
        "colab": {
          "base_uri": "https://localhost:8080/",
          "height": 206
        },
        "id": "aT_e4serS1vf",
        "outputId": "2aad9375-0247-43b9-c9db-09e3bdc64ab0"
      },
      "outputs": [
        {
          "data": {
            "text/html": [
              "<div>\n",
              "<style scoped>\n",
              "    .dataframe tbody tr th:only-of-type {\n",
              "        vertical-align: middle;\n",
              "    }\n",
              "\n",
              "    .dataframe tbody tr th {\n",
              "        vertical-align: top;\n",
              "    }\n",
              "\n",
              "    .dataframe thead th {\n",
              "        text-align: right;\n",
              "    }\n",
              "</style>\n",
              "<table border=\"1\" class=\"dataframe\">\n",
              "  <thead>\n",
              "    <tr style=\"text-align: right;\">\n",
              "      <th></th>\n",
              "      <th>User_ID</th>\n",
              "      <th>Gender</th>\n",
              "      <th>Age</th>\n",
              "      <th>Height</th>\n",
              "      <th>Weight</th>\n",
              "      <th>Duration</th>\n",
              "      <th>Heart_Rate</th>\n",
              "      <th>Body_Temp</th>\n",
              "      <th>Calories</th>\n",
              "    </tr>\n",
              "  </thead>\n",
              "  <tbody>\n",
              "    <tr>\n",
              "      <th>0</th>\n",
              "      <td>14733363</td>\n",
              "      <td>1</td>\n",
              "      <td>68</td>\n",
              "      <td>190</td>\n",
              "      <td>94</td>\n",
              "      <td>29</td>\n",
              "      <td>105</td>\n",
              "      <td>40.8</td>\n",
              "      <td>231.0</td>\n",
              "    </tr>\n",
              "    <tr>\n",
              "      <th>1</th>\n",
              "      <td>14861698</td>\n",
              "      <td>0</td>\n",
              "      <td>20</td>\n",
              "      <td>166</td>\n",
              "      <td>60</td>\n",
              "      <td>14</td>\n",
              "      <td>94</td>\n",
              "      <td>40.3</td>\n",
              "      <td>66.0</td>\n",
              "    </tr>\n",
              "    <tr>\n",
              "      <th>2</th>\n",
              "      <td>11179863</td>\n",
              "      <td>1</td>\n",
              "      <td>69</td>\n",
              "      <td>179</td>\n",
              "      <td>79</td>\n",
              "      <td>5</td>\n",
              "      <td>88</td>\n",
              "      <td>38.7</td>\n",
              "      <td>26.0</td>\n",
              "    </tr>\n",
              "    <tr>\n",
              "      <th>3</th>\n",
              "      <td>16180408</td>\n",
              "      <td>0</td>\n",
              "      <td>34</td>\n",
              "      <td>179</td>\n",
              "      <td>71</td>\n",
              "      <td>13</td>\n",
              "      <td>100</td>\n",
              "      <td>40.5</td>\n",
              "      <td>71.0</td>\n",
              "    </tr>\n",
              "    <tr>\n",
              "      <th>4</th>\n",
              "      <td>17771927</td>\n",
              "      <td>0</td>\n",
              "      <td>27</td>\n",
              "      <td>154</td>\n",
              "      <td>58</td>\n",
              "      <td>10</td>\n",
              "      <td>81</td>\n",
              "      <td>39.8</td>\n",
              "      <td>35.0</td>\n",
              "    </tr>\n",
              "  </tbody>\n",
              "</table>\n",
              "</div>"
            ],
            "text/plain": [
              "    User_ID  Gender  Age  Height  Weight  Duration  Heart_Rate  Body_Temp  \\\n",
              "0  14733363       1   68     190      94        29         105       40.8   \n",
              "1  14861698       0   20     166      60        14          94       40.3   \n",
              "2  11179863       1   69     179      79         5          88       38.7   \n",
              "3  16180408       0   34     179      71        13         100       40.5   \n",
              "4  17771927       0   27     154      58        10          81       39.8   \n",
              "\n",
              "   Calories  \n",
              "0     231.0  \n",
              "1      66.0  \n",
              "2      26.0  \n",
              "3      71.0  \n",
              "4      35.0  "
            ]
          },
          "execution_count": 3,
          "metadata": {},
          "output_type": "execute_result"
        }
      ],
      "source": [
        "# Load both files\n",
        "df_exercise = pd.read_csv('data/exercise.csv')\n",
        "df_calories = pd.read_csv('data/calories.csv')\n",
        "\n",
        "# Merge by index\n",
        "df = pd.concat([df_exercise, df_calories['Calories']], axis=1)\n",
        "\n",
        "# Encode Gender (Male = 1, Female = 0)\n",
        "df['Gender'] = df['Gender'].map({'male': 1, 'female': 0})\n",
        "\n",
        "df.head()\n"
      ]
    },
    {
      "cell_type": "markdown",
      "metadata": {
        "id": "vapbAHXb6PkC"
      },
      "source": [
        "# =====================\n",
        "# **Phase 1:** Predict Heart Rate (Model A)\n",
        "# ====================="
      ]
    },
    {
      "cell_type": "code",
      "execution_count": 4,
      "metadata": {
        "id": "zcbAgQjq6OPJ"
      },
      "outputs": [],
      "source": [
        "# Select features for Heart Rate prediction\n",
        "features_hr = ['Gender', 'Age', 'Height', 'Weight', 'Duration']\n",
        "X_hr = df[features_hr]\n",
        "y_hr = df['Heart_Rate']\n"
      ]
    },
    {
      "cell_type": "code",
      "execution_count": 5,
      "metadata": {
        "id": "bn4dacyGW1tf"
      },
      "outputs": [],
      "source": [
        "# Train-test split\n",
        "X_train_hr, X_test_hr, y_train_hr, y_test_hr = train_test_split(X_hr, y_hr, test_size=0.2, random_state=42)\n",
        "\n",
        "# Train Model\n",
        "model_hr = LinearRegression()\n",
        "model_hr.fit(X_train_hr, y_train_hr)\n",
        "\n",
        "# Predict\n",
        "y_pred_hr = model_hr.predict(X_test_hr)\n"
      ]
    },
    {
      "cell_type": "code",
      "execution_count": 6,
      "metadata": {
        "colab": {
          "base_uri": "https://localhost:8080/"
        },
        "id": "H1YvVMIEXBZ6",
        "outputId": "b582784a-c9b5-465b-ad0f-f4cafbe33998"
      },
      "outputs": [
        {
          "name": "stdout",
          "output_type": "stream",
          "text": [
            "Heart Rate Prediction - Linear Regression\n",
            "R² Score: 0.7357173702544111\n",
            "MAE: 4.022083659000314\n",
            "RMSE: 5.012790258036366\n"
          ]
        }
      ],
      "source": [
        "# Evaluate Heart Rate Model\n",
        "print(\"Heart Rate Prediction - Linear Regression\")\n",
        "print(\"R² Score:\", r2_score(y_test_hr, y_pred_hr))\n",
        "print(\"MAE:\", mean_absolute_error(y_test_hr, y_pred_hr))\n",
        "print(\"RMSE:\", np.sqrt(mean_squared_error(y_test_hr, y_pred_hr)))\n",
        "\n"
      ]
    },
    {
      "cell_type": "markdown",
      "metadata": {
        "id": "1LDvCRyxbw1-"
      },
      "source": [
        "# =====================\n",
        "# **Phase 2:** Predict Body Temperature (Model B)\n",
        "# ====================="
      ]
    },
    {
      "cell_type": "code",
      "execution_count": 7,
      "metadata": {
        "id": "5lXb537bBe5-"
      },
      "outputs": [],
      "source": [
        "# Define inputs and output for Model B\n",
        "X_bt = df[[\"Gender\", \"Age\", \"Height\", \"Weight\", \"Duration\"]]\n",
        "y_bt = df[\"Body_Temp\"]\n"
      ]
    },
    {
      "cell_type": "code",
      "execution_count": 8,
      "metadata": {
        "id": "Cc5fXZx78Zrf"
      },
      "outputs": [],
      "source": [
        "# Train/test split\n",
        "X_train_bt, X_test_bt, y_train_bt, y_test_bt = train_test_split(X_bt, y_bt, test_size=0.2, random_state=42)\n",
        "\n",
        "# Train Linear Regression\n",
        "model_bt = LinearRegression()\n",
        "model_bt.fit(X_train_bt, y_train_bt)\n",
        "\n",
        "# Predict and evaluate\n",
        "y_pred_bt = model_bt.predict(X_test_bt)\n",
        "rmse_bt = sqrt(mean_squared_error(y_test_bt, y_pred_bt))\n",
        "r2_bt = r2_score(y_test_bt, y_pred_bt)"
      ]
    },
    {
      "cell_type": "code",
      "execution_count": 9,
      "metadata": {
        "colab": {
          "base_uri": "https://localhost:8080/"
        },
        "id": "eEi-Ya6Sb2HQ",
        "outputId": "a948a582-0198-45f2-86b5-fe4a8f706516"
      },
      "outputs": [
        {
          "name": "stdout",
          "output_type": "stream",
          "text": [
            "Body Temperature Prediction - Linear Regression\n",
            "R²: 0.81\n",
            "RMSE: 0.34\n"
          ]
        }
      ],
      "source": [
        "# Evaluate Model B\n",
        "print(\"Body Temperature Prediction - Linear Regression\")\n",
        "print(f\"R²: {r2_bt:.2f}\")\n",
        "print(f\"RMSE: {rmse_bt:.2f}\")\n"
      ]
    },
    {
      "cell_type": "markdown",
      "metadata": {
        "id": "7K6w5Lhjf2Fp"
      },
      "source": [
        "# =====================\n",
        "# **Phase 3:** Predict Calories Burned using outputs from previous models (Model C)\n",
        "# ====================="
      ]
    },
    {
      "cell_type": "code",
      "execution_count": 10,
      "metadata": {
        "colab": {
          "base_uri": "https://localhost:8080/",
          "height": 206
        },
        "id": "RCq92W9Kb6ms",
        "outputId": "44fa83c1-f93a-4612-db22-f1c30cc841b8"
      },
      "outputs": [
        {
          "data": {
            "text/html": [
              "<div>\n",
              "<style scoped>\n",
              "    .dataframe tbody tr th:only-of-type {\n",
              "        vertical-align: middle;\n",
              "    }\n",
              "\n",
              "    .dataframe tbody tr th {\n",
              "        vertical-align: top;\n",
              "    }\n",
              "\n",
              "    .dataframe thead th {\n",
              "        text-align: right;\n",
              "    }\n",
              "</style>\n",
              "<table border=\"1\" class=\"dataframe\">\n",
              "  <thead>\n",
              "    <tr style=\"text-align: right;\">\n",
              "      <th></th>\n",
              "      <th>User_ID</th>\n",
              "      <th>Gender</th>\n",
              "      <th>Age</th>\n",
              "      <th>Height</th>\n",
              "      <th>Weight</th>\n",
              "      <th>Duration</th>\n",
              "      <th>Heart_Rate</th>\n",
              "      <th>Body_Temp</th>\n",
              "      <th>Calories</th>\n",
              "      <th>Predicted_Heart_Rate</th>\n",
              "      <th>Predicted_Body_Temp</th>\n",
              "    </tr>\n",
              "  </thead>\n",
              "  <tbody>\n",
              "    <tr>\n",
              "      <th>0</th>\n",
              "      <td>14733363</td>\n",
              "      <td>1</td>\n",
              "      <td>68</td>\n",
              "      <td>190</td>\n",
              "      <td>94</td>\n",
              "      <td>29</td>\n",
              "      <td>105</td>\n",
              "      <td>40.8</td>\n",
              "      <td>231.0</td>\n",
              "      <td>108.8</td>\n",
              "      <td>41.2</td>\n",
              "    </tr>\n",
              "    <tr>\n",
              "      <th>1</th>\n",
              "      <td>14861698</td>\n",
              "      <td>0</td>\n",
              "      <td>20</td>\n",
              "      <td>166</td>\n",
              "      <td>60</td>\n",
              "      <td>14</td>\n",
              "      <td>94</td>\n",
              "      <td>40.3</td>\n",
              "      <td>66.0</td>\n",
              "      <td>93.9</td>\n",
              "      <td>39.9</td>\n",
              "    </tr>\n",
              "    <tr>\n",
              "      <th>2</th>\n",
              "      <td>11179863</td>\n",
              "      <td>1</td>\n",
              "      <td>69</td>\n",
              "      <td>179</td>\n",
              "      <td>79</td>\n",
              "      <td>5</td>\n",
              "      <td>88</td>\n",
              "      <td>38.7</td>\n",
              "      <td>26.0</td>\n",
              "      <td>85.3</td>\n",
              "      <td>39.1</td>\n",
              "    </tr>\n",
              "    <tr>\n",
              "      <th>3</th>\n",
              "      <td>16180408</td>\n",
              "      <td>0</td>\n",
              "      <td>34</td>\n",
              "      <td>179</td>\n",
              "      <td>71</td>\n",
              "      <td>13</td>\n",
              "      <td>100</td>\n",
              "      <td>40.5</td>\n",
              "      <td>71.0</td>\n",
              "      <td>92.8</td>\n",
              "      <td>39.8</td>\n",
              "    </tr>\n",
              "    <tr>\n",
              "      <th>4</th>\n",
              "      <td>17771927</td>\n",
              "      <td>0</td>\n",
              "      <td>27</td>\n",
              "      <td>154</td>\n",
              "      <td>58</td>\n",
              "      <td>10</td>\n",
              "      <td>81</td>\n",
              "      <td>39.8</td>\n",
              "      <td>35.0</td>\n",
              "      <td>90.1</td>\n",
              "      <td>39.5</td>\n",
              "    </tr>\n",
              "  </tbody>\n",
              "</table>\n",
              "</div>"
            ],
            "text/plain": [
              "    User_ID  Gender  Age  Height  Weight  Duration  Heart_Rate  Body_Temp  \\\n",
              "0  14733363       1   68     190      94        29         105       40.8   \n",
              "1  14861698       0   20     166      60        14          94       40.3   \n",
              "2  11179863       1   69     179      79         5          88       38.7   \n",
              "3  16180408       0   34     179      71        13         100       40.5   \n",
              "4  17771927       0   27     154      58        10          81       39.8   \n",
              "\n",
              "   Calories  Predicted_Heart_Rate  Predicted_Body_Temp  \n",
              "0     231.0                 108.8                 41.2  \n",
              "1      66.0                  93.9                 39.9  \n",
              "2      26.0                  85.3                 39.1  \n",
              "3      71.0                  92.8                 39.8  \n",
              "4      35.0                  90.1                 39.5  "
            ]
          },
          "execution_count": 10,
          "metadata": {},
          "output_type": "execute_result"
        }
      ],
      "source": [
        "# Prepare input features\n",
        "# Predict Heart Rate and Body Temp for the full dataset using trained models from Phase 1 & 2\n",
        "df['Predicted_Heart_Rate'] = model_hr.predict(df[['Gender', 'Age', 'Height', 'Weight', 'Duration']])\n",
        "df['Predicted_Body_Temp'] = model_bt.predict(df[['Gender', 'Age', 'Height', 'Weight', 'Duration']])\n",
        "\n",
        "# Round predictions to 1 decimal place\n",
        "df['Predicted_Heart_Rate'] = df['Predicted_Heart_Rate'].round(1)\n",
        "df['Predicted_Body_Temp'] = df['Predicted_Body_Temp'].round(1)\n",
        "\n",
        "df.head()"
      ]
    },
    {
      "cell_type": "code",
      "execution_count": 11,
      "metadata": {
        "id": "1z91IIJlkimj"
      },
      "outputs": [],
      "source": [
        "# Define X and y for calories model\n",
        "X_cal = df[['Gender', 'Age', 'Height', 'Weight', 'Duration', 'Predicted_Heart_Rate', 'Predicted_Body_Temp']]\n",
        "y_cal = df['Calories']\n",
        "\n",
        "# Train-test split\n",
        "X_train_cal, X_test_cal, y_train_cal, y_test_cal = train_test_split(X_cal, y_cal, test_size=0.2, random_state=42)\n"
      ]
    },
    {
      "cell_type": "code",
      "execution_count": 12,
      "metadata": {
        "colab": {
          "base_uri": "https://localhost:8080/"
        },
        "id": "7J9UPjbfwssY",
        "outputId": "245a03ba-b65d-4819-ab62-1a631098889e"
      },
      "outputs": [
        {
          "name": "stdout",
          "output_type": "stream",
          "text": [
            "Calories Prediction - Linear Regression\n",
            "RMSE: 16.29\n",
            "R²: 0.93\n"
          ]
        }
      ],
      "source": [
        "# Train the model\n",
        "model_cal = LinearRegression()\n",
        "model_cal.fit(X_train_cal, y_train_cal)\n",
        "\n",
        "# Predict and evaluate\n",
        "y_pred_cal = model_cal.predict(X_test_cal)\n",
        "rmse_bt = sqrt(mean_squared_error(y_test_bt, y_pred_bt))\n",
        "rmse_cal = np.sqrt(mean_squared_error(y_test_cal, y_pred_cal))\n",
        "r2_cal = r2_score(y_test_cal, y_pred_cal)\n",
        "\n",
        "# Show performance\n",
        "print(\"Calories Prediction - Linear Regression\")\n",
        "print(f\"RMSE: {rmse_cal:.2f}\")\n",
        "print(f\"R²: {r2_cal:.2f}\")\n"
      ]
    },
    {
      "cell_type": "markdown",
      "metadata": {
        "id": "XDiYvZ2XAwR5"
      },
      "source": [
        "# =====================\n",
        "# Save Models\n",
        "# =====================\n"
      ]
    },
    {
      "cell_type": "code",
      "execution_count": null,
      "metadata": {
        "id": "Z3GfHnOtxDSa"
      },
      "outputs": [],
      "source": [
        "import pickle\n",
        "\n",
        "# Save the heart rate model\n",
        "with open('models/model_hr.pkl', 'wb') as f:\n",
        "    pickle.dump(model_hr, f)\n",
        "\n",
        "# Save the body temperature model\n",
        "with open('models/model_bt.pkl', 'wb') as f:\n",
        "    pickle.dump(model_bt, f)\n",
        "\n",
        "# Save the calories burned model\n",
        "with open('models/model_cal.pkl', 'wb') as f:\n",
        "    pickle.dump(model_cal, f)\n"
      ]
    }
  ],
  "metadata": {
    "colab": {
      "provenance": []
    },
    "kernelspec": {
      "display_name": "Python 3",
      "name": "python3"
    },
    "language_info": {
      "codemirror_mode": {
        "name": "ipython",
        "version": 3
      },
      "file_extension": ".py",
      "mimetype": "text/x-python",
      "name": "python",
      "nbconvert_exporter": "python",
      "pygments_lexer": "ipython3",
      "version": "3.12.4"
    }
  },
  "nbformat": 4,
  "nbformat_minor": 0
}
